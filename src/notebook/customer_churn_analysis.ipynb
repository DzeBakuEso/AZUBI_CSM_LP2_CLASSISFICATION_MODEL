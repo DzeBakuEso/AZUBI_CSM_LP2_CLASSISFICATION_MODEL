{
 "cells": [
  {
   "attachments": {},
   "cell_type": "markdown",
   "metadata": {},
   "source": [
    "## STOCKHOLM TEAM"
   ]
  },
  {
   "attachments": {},
   "cell_type": "markdown",
   "metadata": {},
   "source": [
    "# Classification -- Predicting Customer Churn"
   ]
  },
  {
   "attachments": {},
   "cell_type": "markdown",
   "metadata": {},
   "source": [
    "# Business Understanding"
   ]
  },
  {
   "attachments": {},
   "cell_type": "markdown",
   "metadata": {},
   "source": [
    "Customer attrition is one of the biggest expenditures of any organization. Customer churn otherwise known as customer attrition or customer turnover is the percentage of customers that stopped using your company's product or service within a specified timeframe.\n",
    "For instance, if you began the year with 500 customers but later ended with 480 customers, the percentage of customers that left would be 4%. If we could figure out why a customer leaves and when they leave with reasonable accuracy, it would immensely help the organization to strategize their retention initiatives manifold.\n",
    "\n",
    "In this project, we aim to find the likelihood of a customer leaving the organization, the key indicators of churn as well as the retention strategies that can be implemented to avert this problem."
   ]
  },
  {
   "attachments": {},
   "cell_type": "markdown",
   "metadata": {},
   "source": [
    "# The project aims to achieve the following objectives:\n",
    "\n",
    "**Data Understanding and Preprocessing:** Gain a comprehensive understanding of the provided data, ensuring its quality and suitability for building classification models. Cleanse and preprocess the data to address any issues and prepare it for analysis.\n",
    "\n",
    "**Exploratory Data Analysis (EDA):** Conduct in-depth exploratory data analysis to unveil insights into customer churn patterns. Identify distribution patterns, correlations, and potential data challenges that may impact the modeling process.\n",
    "\n",
    "**Feature Engineering:** Select relevant features from the dataset and engineer new features to enhance the model's predictive capabilities. Transform the data into a format that maximizes the model's accuracy and performance.\n",
    "\n",
    "**Model Selection and Evaluation:** Evaluate multiple classification algorithms, including Logistic Regression, Random Forest, Support Vector Machines, and Gradient Boosting, to identify the most suitable model for predicting customer churn. Use appropriate evaluation metrics to compare model performance.\n",
    "\n",
    "**Model Deployment:** Deploy the final classification model to enable real-time predictions on new customer data. Develop a user-friendly interface or API for seamless integration with the company's existing systems.\n",
    "\n",
    "Upon successful completion of the project, the company will have a well-documented and deployed machine learning model capable of accurately predicting customer churn in real-time. This predictive tool will empower the company to proactively take measures to retain valuable customers and make informed business decisions."
   ]
  },
  {
   "attachments": {},
   "cell_type": "markdown",
   "metadata": {},
   "source": [
    "## Data Understanding"
   ]
  },
  {
   "attachments": {},
   "cell_type": "markdown",
   "metadata": {},
   "source": [
    "The data for this project is in a csv format. The following describes the columns present in the data.\n",
    "\n",
    "**Gender --** Whether the customer is a male or a female\n",
    "\n",
    "**SeniorCitizen --** Whether a customer is a senior citizen or not\n",
    "\n",
    "**Partner --** Whether the customer has a partner or not (Yes, No)\n",
    "\n",
    "**Dependents --** Whether the customer has dependents or not (Yes, No)\n",
    "\n",
    "**Tenure --** Number of months the customer has stayed with the company\n",
    "\n",
    "**Phone Service --** Whether the customer has a phone service or not (Yes, No)\n",
    "\n",
    "**MultipleLines --** Whether the customer has multiple lines or not\n",
    "\n",
    "**InternetService --** Customer's internet service provider (DSL, Fiber Optic, No)\n",
    "\n",
    "**OnlineSecurity --** Whether the customer has online security or not (Yes, No, No Internet)\n",
    "\n",
    "**OnlineBackup --** Whether the customer has online backup or not (Yes, No, No Internet)\n",
    "\n",
    "**DeviceProtection --** Whether the customer has device protection or not (Yes, No, No internet service)\n",
    "\n",
    "**TechSupport --** Whether the customer has tech support or not (Yes, No, No internet)\n",
    "\n",
    "**StreamingTV --** Whether the customer has streaming TV or not (Yes, No, No internet service)\n",
    "\n",
    "**StreamingMovies --** Whether the customer has streaming movies or not (Yes, No, No Internet service)\n",
    "\n",
    "**Contract --** The contract term of the customer (Month-to-Month, One year, Two year)\n",
    "\n",
    "**PaperlessBilling --** Whether the customer has paperless billing or not (Yes, No)\n",
    "\n",
    "**Payment Method --** The customer's payment method (Electronic check, mailed check, Bank transfer(automatic), Credit card(automatic))\n",
    "\n",
    "**MonthlyCharges --** The amount charged to the customer monthly\n",
    "\n",
    "**TotalCharges --** The total amount charged to the customer\n",
    "\n",
    "**Churn --** Whether the customer churned or not (Yes or No)"
   ]
  },
  {
   "attachments": {},
   "cell_type": "markdown",
   "metadata": {},
   "source": [
    "# Hypothesis"
   ]
  },
  {
   "attachments": {},
   "cell_type": "markdown",
   "metadata": {},
   "source": [
    "## Null Hypothesis (HO): \n",
    "### Customers with longer tenure (i.e., those who have been with the company for a longer time) are less likely to churn compared to customers with shorter tenure.\n",
    "\n",
    "## Alternative Hypothesis (HA): \n",
    "### Customers with shorter tenure are more likely to churn compared to customers with longer tenure."
   ]
  },
  {
   "attachments": {},
   "cell_type": "markdown",
   "metadata": {},
   "source": [
    "## Exploratory Data Analysis"
   ]
  },
  {
   "attachments": {},
   "cell_type": "markdown",
   "metadata": {},
   "source": [
    "# Questions"
   ]
  },
  {
   "attachments": {},
   "cell_type": "markdown",
   "metadata": {},
   "source": [
    "1.What is the distribution of customers by gender?\n",
    "\n",
    "2.What is the distribution of customers based on their SeniorCitizen status?\n",
    "\n",
    "3.How is the distribution of customers based on their tenure with the company?\n",
    "\n",
    "4.Is there any correlation between MonthlyCharges and TotalCharges?\n",
    "\n",
    "5.What percentage of customers have churned (Yes) versus those who haven't (No)?\n",
    "\n",
    "6.Which payment method is preferred by most customers?\n",
    "\n",
    "7.What percentage of customers are on month-to-month, one-year, or two-year contracts?\n",
    "\n",
    "8.What is the churn rate for customers grouped by their tenure?\n",
    "\n",
    "9.What is the average monthly charges for each tenure group?\n",
    "\n",
    "10.What is the distribution of customers based on their payment methods (Electronic check, Mailed check, Bank transfer, Credit card)?\n",
    "\n",
    "11.What is the distribution of the total charges incurred by customers?\n"
   ]
  },
  {
   "attachments": {},
   "cell_type": "markdown",
   "metadata": {},
   "source": [
    "# Setup"
   ]
  },
  {
   "attachments": {},
   "cell_type": "markdown",
   "metadata": {},
   "source": [
    "# Installation"
   ]
  },
  {
   "cell_type": "code",
   "execution_count": null,
   "metadata": {},
   "outputs": [],
   "source": [
    "%pip install pandas as pd\n",
    "%pip install pyodbc  \n",
    "%pip install python-dotenv \n",
    "%pip install openpyxl\n",
    "%pip install seaborn\n",
    "%pip install matplotlib"
   ]
  },
  {
   "attachments": {},
   "cell_type": "markdown",
   "metadata": {},
   "source": [
    "# Importation"
   ]
  },
  {
   "cell_type": "code",
   "execution_count": 2,
   "metadata": {},
   "outputs": [],
   "source": [
    "import pyodbc #just installed with pip\n",
    "from dotenv import dotenv_values #import the dotenv_values function from the dotenv package\n",
    "import pandas as pd\n",
    "import warnings \n",
    "\n",
    "\n",
    "warnings.filterwarnings('ignore')"
   ]
  },
  {
   "attachments": {},
   "cell_type": "markdown",
   "metadata": {},
   "source": [
    "# Data Loading"
   ]
  },
  {
   "cell_type": "code",
   "execution_count": 3,
   "metadata": {},
   "outputs": [],
   "source": [
    "# Load environment variables from .env file into a dictionary\n",
    "environment_variables = dotenv_values('.env')\n",
    "\n",
    "\n",
    "# Get the values for the credentials you set in the '.env' file\n",
    "database = environment_variables.get(\"DATABASE\")\n",
    "server = environment_variables.get(\"SERVER\")\n",
    "username = environment_variables.get(\"USERNAME\")\n",
    "password = environment_variables.get(\"PASSWORD\")\n",
    "\n",
    "\n",
    "\n",
    "connection_string = f\"DRIVER={{SQL Server}};SERVER={server};DATABASE={database};UID={username};PWD={password}\""
   ]
  },
  {
   "cell_type": "code",
   "execution_count": null,
   "metadata": {},
   "outputs": [],
   "source": [
    "# Use the connect method of the pyodbc library and pass in the connection string.\n",
    "# This will connect to the server and might take a few seconds to be complete. \n",
    "# Check your internet connection if it takes more time than necessary\n",
    "\n",
    "connection = pyodbc.connect(connection_string)"
   ]
  },
  {
   "cell_type": "code",
   "execution_count": null,
   "metadata": {},
   "outputs": [],
   "source": [
    "query = \"Select * from dbo.LP2_Telco_churn_first_3000\"\n",
    "df1 = pd.read_sql(query, connection)"
   ]
  },
  {
   "cell_type": "code",
   "execution_count": null,
   "metadata": {},
   "outputs": [],
   "source": [
    "df1 = pd.DataFrame(df1)"
   ]
  },
  {
   "cell_type": "code",
   "execution_count": null,
   "metadata": {},
   "outputs": [],
   "source": [
    "df1.head()"
   ]
  },
  {
   "attachments": {},
   "cell_type": "markdown",
   "metadata": {},
   "source": [
    "## Test dataset."
   ]
  },
  {
   "cell_type": "code",
   "execution_count": null,
   "metadata": {},
   "outputs": [],
   "source": [
    "excel_file = 'Telco-churn-second-2000.xlsx'\n",
    "\n",
    "# Read the Excel file into a Pandas DataFrame\n",
    "df2 = pd.read_excel(excel_file, engine='openpyxl')\n",
    "\n",
    "# Save the DataFrame as a CSV file\n",
    "df2.to_csv('data1.csv', index=False)"
   ]
  },
  {
   "cell_type": "code",
   "execution_count": null,
   "metadata": {},
   "outputs": [],
   "source": [
    "df2.head()"
   ]
  },
  {
   "cell_type": "code",
   "execution_count": null,
   "metadata": {},
   "outputs": [],
   "source": [
    "df3 = pd.read_csv('LP2_Telco-churn-last-2000.csv')"
   ]
  },
  {
   "cell_type": "code",
   "execution_count": null,
   "metadata": {},
   "outputs": [],
   "source": [
    "df3.head()"
   ]
  },
  {
   "attachments": {},
   "cell_type": "markdown",
   "metadata": {},
   "source": [
    "# Exploratory Data Analysis: EDA"
   ]
  }
 ],
 "metadata": {
  "kernelspec": {
   "display_name": "venv",
   "language": "python",
   "name": "python3"
  },
  "language_info": {
   "codemirror_mode": {
    "name": "ipython",
    "version": 3
   },
   "file_extension": ".py",
   "mimetype": "text/x-python",
   "name": "python",
   "nbconvert_exporter": "python",
   "pygments_lexer": "ipython3",
   "version": "3.6.9"
  },
  "orig_nbformat": 4
 },
 "nbformat": 4,
 "nbformat_minor": 2
}

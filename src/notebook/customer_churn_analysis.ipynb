{
 "cells": [
  {
   "attachments": {},
   "cell_type": "markdown",
   "metadata": {},
   "source": [
    "## STOCKHOLM TEAM"
   ]
  },
  {
   "attachments": {},
   "cell_type": "markdown",
   "metadata": {},
   "source": [
    "# Customer Churn Analysis and Prediction using Classification"
   ]
  },
  {
   "attachments": {},
   "cell_type": "markdown",
   "metadata": {},
   "source": [
    "Customer attrition is one of the biggest expenditures of any organization. Customer churn otherwise known as customer attrition or customer turnover is the percentage of customers that stopped using your company's product or service within a specified timeframe.\n",
    "For instance, if you began the year with 500 customers but later ended with 480 customers, the percentage of customers that left would be 4%. If we could figure out why a customer leaves and when they leave with reasonable accuracy, it would immensely help the organization to strategize their retention initiatives manifold.\n",
    "\n",
    "In this project, we aim to find the likelihood of a customer leaving the organization, the key indicators of churn as well as the retention strategies that can be implemented to avert this problem."
   ]
  },
  {
   "attachments": {},
   "cell_type": "markdown",
   "metadata": {},
   "source": [
    "## The project aims to achieve the following objectives:\n",
    "\n",
    "**Data Understanding and Preprocessing:** Gain a comprehensive understanding of the provided data, ensuring its quality and suitability for building classification models. Cleanse and preprocess the data to address any issues and prepare it for analysis.\n",
    "\n",
    "**Exploratory Data Analysis (EDA):** Conduct in-depth exploratory data analysis to unveil insights into customer churn patterns. Identify distribution patterns, correlations, and potential data challenges that may impact the modeling process.\n",
    "\n",
    "**Feature Engineering:** Select relevant features from the dataset and engineer new features to enhance the model's predictive capabilities. Transform the data into a format that maximizes the model's accuracy and performance.\n",
    "\n",
    "**Model Selection and Evaluation:** Evaluate multiple classification algorithms, including Logistic Regression, Random Forest, Support Vector Machines, and Gradient Boosting, to identify the most suitable model for predicting customer churn. Use appropriate evaluation metrics to compare model performance.\n",
    "\n",
    "**Model Deployment:** Deploy the final classification model to enable real-time predictions on new customer data. Develop a user-friendly interface or API for seamless integration with the company's existing systems.\n",
    "\n",
    "Upon successful completion of the project, the company will have a well-documented and deployed machine learning model capable of accurately predicting customer churn in real-time. This predictive tool will empower the company to proactively take measures to retain valuable customers and make informed business decisions."
   ]
  },
  {
   "attachments": {},
   "cell_type": "markdown",
   "metadata": {},
   "source": [
    "## Data Understanding"
   ]
  },
  {
   "attachments": {},
   "cell_type": "markdown",
   "metadata": {},
   "source": [
    "The data for this project is in a csv format. The following describes the columns present in the data.\n",
    "\n",
    "**Gender --** Whether the customer is a male or a female\n",
    "\n",
    "**SeniorCitizen --** Whether a customer is a senior citizen or not\n",
    "\n",
    "**Partner --** Whether the customer has a partner or not (Yes, No)\n",
    "\n",
    "**Dependents --** Whether the customer has dependents or not (Yes, No)\n",
    "\n",
    "**Tenure --** Number of months the customer has stayed with the company\n",
    "\n",
    "**Phone Service --** Whether the customer has a phone service or not (Yes, No)\n",
    "\n",
    "**MultipleLines --** Whether the customer has multiple lines or not\n",
    "\n",
    "**InternetService --** Customer's internet service provider (DSL, Fiber Optic, No)\n",
    "\n",
    "**OnlineSecurity --** Whether the customer has online security or not (Yes, No, No Internet)\n",
    "\n",
    "**OnlineBackup --** Whether the customer has online backup or not (Yes, No, No Internet)\n",
    "\n",
    "**DeviceProtection --** Whether the customer has device protection or not (Yes, No, No internet service)\n",
    "\n",
    "**TechSupport --** Whether the customer has tech support or not (Yes, No, No internet)\n",
    "\n",
    "**StreamingTV --** Whether the customer has streaming TV or not (Yes, No, No internet service)\n",
    "\n",
    "**StreamingMovies --** Whether the customer has streaming movies or not (Yes, No, No Internet service)\n",
    "\n",
    "**Contract --** The contract term of the customer (Month-to-Month, One year, Two year)\n",
    "\n",
    "**PaperlessBilling --** Whether the customer has paperless billing or not (Yes, No)\n",
    "\n",
    "**Payment Method --** The customer's payment method (Electronic check, mailed check, Bank transfer(automatic), Credit card(automatic))\n",
    "\n",
    "**MonthlyCharges --** The amount charged to the customer monthly\n",
    "\n",
    "**TotalCharges --** The total amount charged to the customer\n",
    "\n",
    "**Churn --** Whether the customer churned or not (Yes or No)"
   ]
  },
  {
   "attachments": {},
   "cell_type": "markdown",
   "metadata": {},
   "source": [
    "# Hypothesis\n",
    "\n",
    "## Null Hypothesis (HO): \n",
    "#### Customers with longer tenure (i.e., those who have been with the company for a longer time) are less likely to churn compared to customers with shorter tenure.\n",
    "\n",
    "## Alternative Hypothesis (HA): \n",
    "#### Customers with shorter tenure are more likely to churn compared to customers with longer tenure."
   ]
  },
  {
   "cell_type": "markdown",
   "metadata": {},
   "source": [
    "## Exploratory Data Analysis"
   ]
  },
  {
   "attachments": {},
   "cell_type": "markdown",
   "metadata": {},
   "source": [
    "## Research Questions\n",
    "1. What is the churn rate among customers? How many customers have churned (Yes) versus those who haven't (No)?\n",
    "\n",
    "2. How does the distribution of churn ('Yes' and 'No') vary across different categories of the predictor variable?\n",
    "\n",
    "3. What are the distributions and summaries of monthly charges, and total charges for the customer base, and are there any notable outliers in these distributions?\n",
    "\n",
    "4. What is the average monthly charges and total charges for customers who churned and those who didn't?\n",
    "\n",
    "5. What is the churn rate based on the tenure of customers with the company?\n",
    "\n",
    "6. What is the distribution of monthly charges for customers who churned versus those who did not churn?\n",
    "\n",
    "7. How does the distribution of total charges incurred by customers relate to churn rates?\n",
    "\n",
    "8. Is there a correlation between MonthlyCharges, TotalCharges, and customer churn?\n",
    "\n",
    "9. How do the various combinations of factors like tenure, monthly charges, total charges, payment method, contract term, etc. affect churn?"
   ]
  },
  {
   "attachments": {},
   "cell_type": "markdown",
   "metadata": {},
   "source": [
    "# Setup"
   ]
  },
  {
   "attachments": {},
   "cell_type": "markdown",
   "metadata": {},
   "source": [
    "# Installation"
   ]
  },
  {
   "cell_type": "code",
   "execution_count": null,
   "metadata": {},
   "outputs": [],
   "source": [
    "'''%pip install pandas as pd\n",
    "%pip install pyodbc  \n",
    "%pip install python-dotenv \n",
    "%pip install openpyxl\n",
    "'''"
   ]
  },
  {
   "attachments": {},
   "cell_type": "markdown",
   "metadata": {},
   "source": [
    "# Importation"
   ]
  },
  {
   "cell_type": "code",
   "execution_count": null,
   "metadata": {},
   "outputs": [],
   "source": [
    "import pyodbc #just installed with pip\n",
    "from dotenv import dotenv_values #import the dotenv_values function from the dotenv package\n",
    "\n",
    "import pandas as pd\n",
    "import numpy as np\n",
    "from ydata_profiling import ProfileReport\n",
    "\n",
    "import seaborn as sns\n",
    "import matplotlib.pyplot as plt\n",
    "import matplotlib.ticker as mticker\n",
    "%matplotlib inline\n",
    "import plotly.express as px\n",
    "color = sns.color_palette()\n",
    "import matplotlib.colors as mcolors\n",
    "import plotly.subplots as sp\n",
    "import plotly.graph_objects as go\n",
    "from plotly.subplots import make_subplots\n",
    "from plotly.io import write_html\n",
    "\n",
    "from sklearn.impute import SimpleImputer\n",
    "\n",
    "\n",
    "import warnings\n",
    "warnings.filterwarnings('ignore')"
   ]
  },
  {
   "attachments": {},
   "cell_type": "markdown",
   "metadata": {},
   "source": [
    "# Load the remote dataset(first dataset)"
   ]
  },
  {
   "cell_type": "code",
   "execution_count": null,
   "metadata": {},
   "outputs": [],
   "source": [
    "# Load environment variables from .env file into a dictionary\n",
    "environment_variables = dotenv_values('.env')\n",
    "\n",
    "\n",
    "# Get the values for the credentials you set in the '.env' file\n",
    "database = environment_variables.get(\"DATABASE\")\n",
    "server = environment_variables.get(\"SERVER\")\n",
    "username = environment_variables.get(\"USERNAME\")\n",
    "password = environment_variables.get(\"PASSWORD\")\n",
    "\n",
    "\n",
    "\n",
    "connection_string = f\"DRIVER={{SQL Server}};SERVER={server};DATABASE={database};UID={username};PWD={password}\""
   ]
  },
  {
   "cell_type": "code",
   "execution_count": null,
   "metadata": {},
   "outputs": [],
   "source": [
    "# Use the connect method of the pyodbc library and pass in the connection string.\n",
    "# This will connect to the server and might take a few seconds to be complete. \n",
    "# Check your internet connection if it takes more time than necessary\n",
    "\n",
    "connection = pyodbc.connect(connection_string)"
   ]
  },
  {
   "cell_type": "code",
   "execution_count": null,
   "metadata": {},
   "outputs": [],
   "source": [
    "query = \"Select * from dbo.LP2_Telco_churn_first_3000\"\n",
    "data = pd.read_sql(query, connection)"
   ]
  },
  {
   "attachments": {},
   "cell_type": "markdown",
   "metadata": {},
   "source": [
    "# Load Test dataset."
   ]
  },
  {
   "cell_type": "code",
   "execution_count": null,
   "metadata": {},
   "outputs": [],
   "source": [
    "excel_file = 'Telco-churn-second-2000.xlsx'\n",
    "\n",
    "# Read the Excel file into a Pandas DataFrame\n",
    "df_test = pd.read_excel(excel_file, engine='openpyxl')\n",
    "\n",
    "# Save the DataFrame as a CSV file\n",
    "df_test.to_csv('df_test.csv', index=False)"
   ]
  },
  {
   "attachments": {},
   "cell_type": "markdown",
   "metadata": {},
   "source": [
    "# Load Third Dataset"
   ]
  },
  {
   "cell_type": "code",
   "execution_count": null,
   "metadata": {},
   "outputs": [],
   "source": [
    "data3 = pd.read_csv('LP2_Telco-churn-last-2000.csv')"
   ]
  },
  {
   "attachments": {},
   "cell_type": "markdown",
   "metadata": {},
   "source": [
    "# Cleaning First Dataset"
   ]
  },
  {
   "cell_type": "code",
   "execution_count": null,
   "metadata": {},
   "outputs": [],
   "source": [
    "data.head()"
   ]
  },
  {
   "cell_type": "code",
   "execution_count": null,
   "metadata": {},
   "outputs": [],
   "source": [
    "data.shape"
   ]
  },
  {
   "cell_type": "code",
   "execution_count": null,
   "metadata": {},
   "outputs": [],
   "source": [
    "data.columns"
   ]
  },
  {
   "cell_type": "code",
   "execution_count": null,
   "metadata": {},
   "outputs": [],
   "source": [
    "data.info()"
   ]
  },
  {
   "cell_type": "code",
   "execution_count": null,
   "metadata": {},
   "outputs": [],
   "source": [
    "data.describe()"
   ]
  },
  {
   "cell_type": "code",
   "execution_count": null,
   "metadata": {},
   "outputs": [],
   "source": [
    "data.duplicated().sum()"
   ]
  },
  {
   "cell_type": "code",
   "execution_count": null,
   "metadata": {},
   "outputs": [],
   "source": [
    "data.drop_duplicates(subset=['gender', 'SeniorCitizen', 'Partner', 'Dependents', 'tenure',\n",
    "       'PhoneService', 'MultipleLines', 'InternetService', 'OnlineSecurity',\n",
    "       'OnlineBackup', 'DeviceProtection', 'TechSupport', 'StreamingTV',\n",
    "       'StreamingMovies', 'Contract', 'PaperlessBilling', 'PaymentMethod',\n",
    "       'MonthlyCharges', 'TotalCharges', 'Churn'], inplace=True)"
   ]
  },
  {
   "cell_type": "code",
   "execution_count": null,
   "metadata": {},
   "outputs": [],
   "source": [
    "data.isnull().sum()"
   ]
  },
  {
   "cell_type": "code",
   "execution_count": null,
   "metadata": {},
   "outputs": [],
   "source": [
    "# Calculate the % of missing values in the dataset\n",
    "missing_values_percent = data.isna().mean().round(4) * 100\n",
    "print(missing_values_percent)"
   ]
  },
  {
   "attachments": {},
   "cell_type": "markdown",
   "metadata": {},
   "source": [
    "In our analysis, we are using a threshold of 30% for missing values. Columns with missing values above this threshold will be considered for removal.\n",
    "\n",
    "In this case, no column has more than 30% missing data, so all columns are retained. For those columns with missing data below this threshold, we will perform imputation to fill in the missing values."
   ]
  },
  {
   "cell_type": "code",
   "execution_count": null,
   "metadata": {},
   "outputs": [],
   "source": [
    "# Fill Null with mode in categorical dataset\n",
    "columns_to_fill = ['MultipleLines',  'OnlineSecurity', 'OnlineBackup', 'DeviceProtection', 'TechSupport', 'StreamingTV', 'StreamingMovies', 'Churn']\n",
    "\n",
    "for column in columns_to_fill:\n",
    "    data[column].fillna(data[column].mode()[0], inplace=True)"
   ]
  },
  {
   "attachments": {},
   "cell_type": "markdown",
   "metadata": {},
   "source": [
    "To ensure that our data is correctly processed by our model, we need to make sure that each feature is of the correct data type. "
   ]
  },
  {
   "cell_type": "code",
   "execution_count": null,
   "metadata": {},
   "outputs": [],
   "source": [
    "#change the dtype for SeniorCitizen column to be same as other datasets\n",
    "data['SeniorCitizen'] = data['SeniorCitizen'].astype(int)"
   ]
  },
  {
   "cell_type": "code",
   "execution_count": null,
   "metadata": {},
   "outputs": [],
   "source": [
    "# change dtype from bool to object in categorical columns\n",
    "cols = ['Partner', 'Dependents', 'PhoneService', 'MultipleLines', 'OnlineSecurity', 'OnlineBackup', 'DeviceProtection', 'TechSupport', 'StreamingTV', 'StreamingMovies', 'PaperlessBilling', 'Churn']\n",
    "\n",
    "# Convert bool to str in df2\n",
    "for col in cols:\n",
    "    data[col] = data[col].astype(str)\n",
    "\n",
    "# Consistent representation\n",
    "for col in cols:\n",
    "    data[col] = data[col].map({'True': 'Yes', 'False': 'No'})"
   ]
  },
  {
   "cell_type": "code",
   "execution_count": null,
   "metadata": {},
   "outputs": [],
   "source": [
    "data.head()"
   ]
  },
  {
   "attachments": {},
   "cell_type": "markdown",
   "metadata": {},
   "source": [
    "## Check for outliers in the TotalCharges  column"
   ]
  },
  {
   "cell_type": "code",
   "execution_count": null,
   "metadata": {},
   "outputs": [],
   "source": [
    "Q1 = data['TotalCharges'].quantile(0.25)\n",
    "Q3 = data['TotalCharges'].quantile(0.75)\n",
    "IQR = Q3 - Q1\n",
    "\n",
    "# Define bounds\n",
    "lower_bound = Q1 - 1.5 * IQR\n",
    "upper_bound = Q3 + 1.5 * IQR\n",
    "\n",
    "# Detect outliers\n",
    "outliers = data[(data['TotalCharges'] < lower_bound) | (data['TotalCharges'] > upper_bound)]\n",
    "\n",
    "print(f'There are {outliers.shape[0]} outliers in TotalCharges.')\n"
   ]
  },
  {
   "attachments": {},
   "cell_type": "markdown",
   "metadata": {},
   "source": [
    "There are no outliers. The mean can be used to impute missing values in the TotalCharges Column"
   ]
  },
  {
   "cell_type": "code",
   "execution_count": null,
   "metadata": {},
   "outputs": [],
   "source": [
    "# The imputer will replace missing values with the mean of the non-missing values for the respective column\n",
    "\n",
    "imputer = SimpleImputer(missing_values=np.nan, strategy=\"mean\")\n",
    "\n",
    "data.TotalCharges = imputer.fit_transform(data[\"TotalCharges\"].values.reshape(-1, 1))"
   ]
  },
  {
   "attachments": {},
   "cell_type": "markdown",
   "metadata": {},
   "source": [
    "To better understand customer churn patterns, we categorize customers into tenure groups. For example, customers with less than a year's tenure are grouped as '1-12', and those with one to two years' tenure as '13-24'. This categorization aids in revealing trends and insights related to customer churn across different tenure periods."
   ]
  },
  {
   "cell_type": "code",
   "execution_count": null,
   "metadata": {},
   "outputs": [],
   "source": [
    "# Group the tenure in bins of 12 months\n",
    "labels = [\"{0} - {1}\".format(i, i + 11) for i in range(1, 72, 12)]\n",
    "\n",
    "data['tenure_group'] = pd.cut(data.tenure, range(1, 80, 12), right=False, labels=labels)"
   ]
  },
  {
   "cell_type": "code",
   "execution_count": null,
   "metadata": {},
   "outputs": [],
   "source": [
    "data['tenure_group'].value_counts()"
   ]
  },
  {
   "attachments": {},
   "cell_type": "markdown",
   "metadata": {},
   "source": [
    "Remove column not needed"
   ]
  },
  {
   "cell_type": "code",
   "execution_count": null,
   "metadata": {},
   "outputs": [],
   "source": [
    "#drop column customerID\n",
    "data.drop(columns= ['customerID','tenure'], axis=1, inplace=True)"
   ]
  },
  {
   "cell_type": "code",
   "execution_count": null,
   "metadata": {},
   "outputs": [],
   "source": [
    "data.isnull().sum()"
   ]
  },
  {
   "cell_type": "code",
   "execution_count": null,
   "metadata": {},
   "outputs": [],
   "source": [
    "data = data.dropna(subset=['tenure_group'])"
   ]
  },
  {
   "cell_type": "code",
   "execution_count": null,
   "metadata": {},
   "outputs": [],
   "source": [
    "missing = pd.DataFrame((data.isnull().sum())*100/data.shape[0]).reset_index()\n",
    "plt.figure(figsize=(16,5))\n",
    "ax = sns.pointplot(x='index',y=0,data=missing)\n",
    "plt.xticks(rotation =90,fontsize =7)\n",
    "plt.title(\"Percentage of Missing values\")\n",
    "plt.ylabel(\"PERCENTAGE\")\n",
    "plt.show()"
   ]
  },
  {
   "cell_type": "code",
   "execution_count": null,
   "metadata": {},
   "outputs": [],
   "source": [
    "data.head()"
   ]
  },
  {
   "attachments": {},
   "cell_type": "markdown",
   "metadata": {},
   "source": [
    "# Cleaning Test Dataset"
   ]
  },
  {
   "cell_type": "code",
   "execution_count": null,
   "metadata": {},
   "outputs": [],
   "source": [
    "df_test.head()"
   ]
  },
  {
   "cell_type": "code",
   "execution_count": null,
   "metadata": {},
   "outputs": [],
   "source": [
    "df_test.shape"
   ]
  },
  {
   "cell_type": "code",
   "execution_count": null,
   "metadata": {},
   "outputs": [],
   "source": [
    "df_test.columns"
   ]
  },
  {
   "cell_type": "code",
   "execution_count": null,
   "metadata": {},
   "outputs": [],
   "source": [
    "df_test.info()"
   ]
  },
  {
   "cell_type": "code",
   "execution_count": null,
   "metadata": {},
   "outputs": [],
   "source": [
    "df_test.describe()"
   ]
  },
  {
   "cell_type": "code",
   "execution_count": null,
   "metadata": {},
   "outputs": [],
   "source": [
    "df_test.duplicated().sum()"
   ]
  },
  {
   "cell_type": "code",
   "execution_count": null,
   "metadata": {},
   "outputs": [],
   "source": [
    "df_test.drop_duplicates(subset=['gender', 'SeniorCitizen', 'Partner', 'Dependents', 'tenure',\n",
    "       'PhoneService', 'MultipleLines', 'InternetService', 'OnlineSecurity',\n",
    "       'OnlineBackup', 'DeviceProtection', 'TechSupport', 'StreamingTV',\n",
    "       'StreamingMovies', 'Contract', 'PaperlessBilling', 'PaymentMethod',\n",
    "       'MonthlyCharges', 'TotalCharges'], inplace=True)"
   ]
  },
  {
   "cell_type": "code",
   "execution_count": null,
   "metadata": {},
   "outputs": [],
   "source": [
    "df_test.isnull().sum()"
   ]
  },
  {
   "attachments": {},
   "cell_type": "markdown",
   "metadata": {},
   "source": [
    "## Convert TotalCharges to numeric datatype"
   ]
  },
  {
   "cell_type": "code",
   "execution_count": null,
   "metadata": {},
   "outputs": [],
   "source": [
    "df_test['TotalCharges'] = pd.to_numeric(df_test['TotalCharges'],errors = 'coerce')"
   ]
  },
  {
   "cell_type": "code",
   "execution_count": null,
   "metadata": {},
   "outputs": [],
   "source": [
    "df_test.isnull().sum()"
   ]
  },
  {
   "attachments": {},
   "cell_type": "markdown",
   "metadata": {},
   "source": [
    "## Check for outliers in the TotalCharges  column"
   ]
  },
  {
   "cell_type": "code",
   "execution_count": null,
   "metadata": {},
   "outputs": [],
   "source": [
    "Q1 = df_test['TotalCharges'].quantile(0.25)\n",
    "Q3 = df_test['TotalCharges'].quantile(0.75)\n",
    "IQR = Q3 - Q1\n",
    "\n",
    "# Define bounds\n",
    "lower_bound = Q1 - 1.5 * IQR\n",
    "upper_bound = Q3 + 1.5 * IQR\n",
    "\n",
    "# Detect outliers\n",
    "outliers = df_test[(df_test['TotalCharges'] < lower_bound) | (df_test['TotalCharges'] > upper_bound)]\n",
    "\n",
    "print(f'There are {outliers.shape[0]} outliers in TotalCharges.')"
   ]
  },
  {
   "cell_type": "code",
   "execution_count": null,
   "metadata": {},
   "outputs": [],
   "source": [
    "# Calculate the median of the column without the outliers\n",
    "median = df_test.loc[(df_test['TotalCharges'] >= lower_bound) & (df_test['TotalCharges'] <= upper_bound), 'TotalCharges'].median()\n",
    "\n",
    "# Replace the outliers with the median\n",
    "df_test.loc[(df_test['TotalCharges'] < lower_bound) | (df_test['TotalCharges'] > upper_bound), 'TotalCharges'] = median"
   ]
  },
  {
   "attachments": {},
   "cell_type": "markdown",
   "metadata": {},
   "source": [
    "There are only 2 outliers. Outliers are handled by replacing them with the median of the non-outlier values. This helps to prevent the skewing of the data that can be caused by extreme outlier values.The mean can be used to impute missing values in the TotalCharges Column"
   ]
  },
  {
   "cell_type": "code",
   "execution_count": null,
   "metadata": {},
   "outputs": [],
   "source": [
    "# The imputer will replace missing values with the mean of the non-missing values for the respective column\n",
    "\n",
    "imputer = SimpleImputer(missing_values=np.nan, strategy=\"mean\")\n",
    "\n",
    "df_test.TotalCharges = imputer.fit_transform(df_test[\"TotalCharges\"].values.reshape(-1, 1))"
   ]
  },
  {
   "attachments": {},
   "cell_type": "markdown",
   "metadata": {},
   "source": [
    "To better understand customer churn patterns, we categorize customers into tenure groups. For example, customers with less than a year's tenure are grouped as '1-12', and those with one to two years' tenure as '13-24'. This categorization aids in revealing trends and insights related to customer churn across different tenure periods."
   ]
  },
  {
   "cell_type": "code",
   "execution_count": null,
   "metadata": {},
   "outputs": [],
   "source": [
    "# Group the tenure in bins of 12 months\n",
    "labels = [\"{0} - {1}\".format(i, i + 11) for i in range(1, 72, 12)]\n",
    "\n",
    "df_test['tenure_group'] = pd.cut(df_test.tenure, range(1, 80, 12), right=False, labels=labels)"
   ]
  },
  {
   "cell_type": "code",
   "execution_count": null,
   "metadata": {},
   "outputs": [],
   "source": [
    "df_test['tenure_group'].value_counts()"
   ]
  },
  {
   "attachments": {},
   "cell_type": "markdown",
   "metadata": {},
   "source": [
    "Remove column not needed"
   ]
  },
  {
   "cell_type": "code",
   "execution_count": null,
   "metadata": {},
   "outputs": [],
   "source": [
    "#drop column customerID \n",
    "df_test.drop(columns= ['customerID','tenure'], axis=1, inplace=True)"
   ]
  },
  {
   "cell_type": "code",
   "execution_count": null,
   "metadata": {},
   "outputs": [],
   "source": [
    "df_test.isnull().sum()"
   ]
  },
  {
   "cell_type": "code",
   "execution_count": null,
   "metadata": {},
   "outputs": [],
   "source": [
    "df_test = df_test.dropna(subset=['tenure_group'])"
   ]
  },
  {
   "cell_type": "code",
   "execution_count": null,
   "metadata": {},
   "outputs": [],
   "source": [
    "missing = pd.DataFrame((df_test.isnull().sum())*100/df_test.shape[0]).reset_index()\n",
    "plt.figure(figsize=(16,5))\n",
    "ax = sns.pointplot(x='index',y=0,data=missing)\n",
    "plt.xticks(rotation =90,fontsize =7)\n",
    "plt.title(\"Percentage of Missing values\")\n",
    "plt.ylabel(\"PERCENTAGE\")\n",
    "plt.show()"
   ]
  },
  {
   "cell_type": "code",
   "execution_count": null,
   "metadata": {},
   "outputs": [],
   "source": [
    "df_test.head()"
   ]
  },
  {
   "attachments": {},
   "cell_type": "markdown",
   "metadata": {},
   "source": [
    "# Cleaning Third Dataset"
   ]
  },
  {
   "cell_type": "code",
   "execution_count": null,
   "metadata": {},
   "outputs": [],
   "source": [
    "data3.head()"
   ]
  },
  {
   "cell_type": "code",
   "execution_count": null,
   "metadata": {},
   "outputs": [],
   "source": [
    "data3.shape"
   ]
  },
  {
   "cell_type": "code",
   "execution_count": null,
   "metadata": {},
   "outputs": [],
   "source": [
    "data3.columns"
   ]
  },
  {
   "cell_type": "code",
   "execution_count": null,
   "metadata": {},
   "outputs": [],
   "source": [
    "data3.info()"
   ]
  },
  {
   "cell_type": "code",
   "execution_count": null,
   "metadata": {},
   "outputs": [],
   "source": [
    "data3.describe()"
   ]
  },
  {
   "cell_type": "code",
   "execution_count": null,
   "metadata": {},
   "outputs": [],
   "source": [
    "data3.duplicated().sum()"
   ]
  },
  {
   "cell_type": "code",
   "execution_count": null,
   "metadata": {},
   "outputs": [],
   "source": [
    "data3.drop_duplicates(subset=['gender', 'SeniorCitizen', 'Partner', 'Dependents', 'tenure',\n",
    "       'PhoneService', 'MultipleLines', 'InternetService', 'OnlineSecurity',\n",
    "       'OnlineBackup', 'DeviceProtection', 'TechSupport', 'StreamingTV',\n",
    "       'StreamingMovies', 'Contract', 'PaperlessBilling', 'PaymentMethod',\n",
    "       'MonthlyCharges', 'TotalCharges', 'Churn'], inplace=True)"
   ]
  },
  {
   "cell_type": "code",
   "execution_count": null,
   "metadata": {},
   "outputs": [],
   "source": [
    "data3.isnull().sum()"
   ]
  },
  {
   "attachments": {},
   "cell_type": "markdown",
   "metadata": {},
   "source": [
    "## Convert TotalCharges to numeric datatype"
   ]
  },
  {
   "cell_type": "code",
   "execution_count": null,
   "metadata": {},
   "outputs": [],
   "source": [
    "data3['TotalCharges'] = pd.to_numeric(data3['TotalCharges'],errors = 'coerce')"
   ]
  },
  {
   "cell_type": "code",
   "execution_count": null,
   "metadata": {},
   "outputs": [],
   "source": [
    "data3.isnull().sum()"
   ]
  },
  {
   "attachments": {},
   "cell_type": "markdown",
   "metadata": {},
   "source": [
    "## Check for outliers in the TotalCharges  column"
   ]
  },
  {
   "cell_type": "code",
   "execution_count": null,
   "metadata": {},
   "outputs": [],
   "source": [
    "Q1 = data3['TotalCharges'].quantile(0.25)\n",
    "Q3 = data3['TotalCharges'].quantile(0.75)\n",
    "IQR = Q3 - Q1\n",
    "\n",
    "# Define bounds\n",
    "lower_bound = Q1 - 1.5 * IQR\n",
    "upper_bound = Q3 + 1.5 * IQR\n",
    "\n",
    "# Detect outliers\n",
    "outliers = data3[(data3['TotalCharges'] < lower_bound) | (data3['TotalCharges'] > upper_bound)]\n",
    "\n",
    "print(f'There are {outliers.shape[0]} outliers in TotalCharges.')"
   ]
  },
  {
   "attachments": {},
   "cell_type": "markdown",
   "metadata": {},
   "source": [
    "There are no outliers. The mean can be used to impute missing values in the TotalCharges Column"
   ]
  },
  {
   "cell_type": "code",
   "execution_count": null,
   "metadata": {},
   "outputs": [],
   "source": [
    "# The imputer will replace missing values with the mean of the non-missing values for the respective column\n",
    "\n",
    "imputer = SimpleImputer(missing_values=np.nan, strategy=\"mean\")\n",
    "\n",
    "data3.TotalCharges = imputer.fit_transform(data3[\"TotalCharges\"].values.reshape(-1, 1))"
   ]
  },
  {
   "attachments": {},
   "cell_type": "markdown",
   "metadata": {},
   "source": [
    "To better understand customer churn patterns, we categorize customers into tenure groups. For example, customers with less than a year's tenure are grouped as '1-12', and those with one to two years' tenure as '13-24'. This categorization aids in revealing trends and insights related to customer churn across different tenure periods."
   ]
  },
  {
   "cell_type": "code",
   "execution_count": null,
   "metadata": {},
   "outputs": [],
   "source": [
    "# Group the tenure in bins of 12 months\n",
    "labels = [\"{0} - {1}\".format(i, i + 11) for i in range(1, 72, 12)]\n",
    "\n",
    "data3['tenure_group'] = pd.cut(data3.tenure, range(1, 80, 12), right=False, labels=labels)"
   ]
  },
  {
   "cell_type": "code",
   "execution_count": null,
   "metadata": {},
   "outputs": [],
   "source": [
    "data3['tenure_group'].value_counts()"
   ]
  },
  {
   "attachments": {},
   "cell_type": "markdown",
   "metadata": {},
   "source": [
    "Remove columns not needed"
   ]
  },
  {
   "cell_type": "code",
   "execution_count": null,
   "metadata": {},
   "outputs": [],
   "source": [
    "#drop column customerID\n",
    "data3.drop(columns= ['customerID','tenure'], axis=1, inplace=True)"
   ]
  },
  {
   "cell_type": "code",
   "execution_count": null,
   "metadata": {},
   "outputs": [],
   "source": [
    "data3.dtypes"
   ]
  },
  {
   "cell_type": "code",
   "execution_count": null,
   "metadata": {},
   "outputs": [],
   "source": [
    "data3.isnull().sum()"
   ]
  },
  {
   "cell_type": "code",
   "execution_count": null,
   "metadata": {},
   "outputs": [],
   "source": [
    "data3 = data3.dropna(subset=['tenure_group'])"
   ]
  },
  {
   "cell_type": "code",
   "execution_count": null,
   "metadata": {},
   "outputs": [],
   "source": [
    "missing = pd.DataFrame((data3.isnull().sum())*100/data3.shape[0]).reset_index()\n",
    "plt.figure(figsize=(16,5))\n",
    "ax = sns.pointplot(x='index',y=0,data=missing)\n",
    "plt.xticks(rotation =90,fontsize =7)\n",
    "plt.title(\"Percentage of Missing values\")\n",
    "plt.ylabel(\"PERCENTAGE\")\n",
    "plt.show()"
   ]
  },
  {
   "cell_type": "code",
   "execution_count": null,
   "metadata": {},
   "outputs": [],
   "source": [
    "data3.head()"
   ]
  },
  {
   "attachments": {},
   "cell_type": "markdown",
   "metadata": {},
   "source": [
    "## After Cleaning Concatenate First Dataset and Third Dataset. Do not include the Test Dataset"
   ]
  },
  {
   "cell_type": "code",
   "execution_count": null,
   "metadata": {},
   "outputs": [],
   "source": [
    "# Concatenate the data frames\n",
    "df = pd.concat([data, data3])"
   ]
  },
  {
   "cell_type": "code",
   "execution_count": null,
   "metadata": {},
   "outputs": [],
   "source": [
    "# Reseting the index of the concatenated data frame\n",
    "df.to_csv('df.csv', index=False)"
   ]
  },
  {
   "attachments": {},
   "cell_type": "markdown",
   "metadata": {},
   "source": [
    "## Concatenated Dataset"
   ]
  },
  {
   "cell_type": "code",
   "execution_count": null,
   "metadata": {},
   "outputs": [],
   "source": [
    "df= pd.read_csv('df.csv')"
   ]
  },
  {
   "cell_type": "code",
   "execution_count": null,
   "metadata": {},
   "outputs": [],
   "source": [
    "df.head()"
   ]
  },
  {
   "cell_type": "code",
   "execution_count": null,
   "metadata": {},
   "outputs": [],
   "source": [
    "df.shape"
   ]
  },
  {
   "cell_type": "code",
   "execution_count": null,
   "metadata": {},
   "outputs": [],
   "source": [
    "df.info()"
   ]
  },
  {
   "cell_type": "code",
   "execution_count": null,
   "metadata": {},
   "outputs": [],
   "source": [
    "df.describe()"
   ]
  },
  {
   "attachments": {},
   "cell_type": "markdown",
   "metadata": {},
   "source": [
    "## Profile Report for Trainset"
   ]
  },
  {
   "cell_type": "code",
   "execution_count": null,
   "metadata": {},
   "outputs": [],
   "source": [
    "'''\n",
    "profile = ProfileReport(df, title='Train Dataset', html={'style':{'full_width':True}})\n",
    "profile.to_notebook_iframe()\n",
    "profile.to_file(\"[Trainset] Pandas-Profiling_Report.html\")\n",
    "'''"
   ]
  },
  {
   "attachments": {},
   "cell_type": "markdown",
   "metadata": {},
   "source": [
    "## Profile Report for Testset"
   ]
  },
  {
   "cell_type": "code",
   "execution_count": null,
   "metadata": {},
   "outputs": [],
   "source": [
    "'''\n",
    "profile = ProfileReport(df_test, title='Test Dataset', html={'style':{'full_width':True}})\n",
    "profile.to_notebook_iframe()\n",
    "profile.to_file(\"[Testset] Pandas-Profiling_Report.html\")\n",
    "'''"
   ]
  },
  {
   "attachments": {},
   "cell_type": "markdown",
   "metadata": {},
   "source": [
    "# Data Exploration"
   ]
  },
  {
   "attachments": {},
   "cell_type": "markdown",
   "metadata": {},
   "source": [
    "1. What is the churn rate among customers? How many customers have churned (Yes) versus those who haven't (No)?\n",
    "2. How does the distribution of churn ('Yes' and 'No') vary across different categories of the predictor variable?\n",
    "3. What are the distributions and summaries of monthly charges, and total charges for the customer base, and are there any notable outliers in these distributions?\n",
    "4. What is the average monthly charges and total charges for customers who churned and those who didn't?\n",
    "5. What is the churn rate based on the tenure of customers with the company?\n",
    "6. What is the distribution of monthly charges for customers who churned versus those who did not churn?\n",
    "7. How does the distribution of total charges incurred by customers relate to churn rates?\n",
    "8. Is there a correlation between MonthlyCharges, TotalCharges, and customer churn?\n",
    "9. How do the various combinations of factors like tenure, monthly charges, total charges, payment method, contract term, etc. affect churn?"
   ]
  },
  {
   "attachments": {},
   "cell_type": "markdown",
   "metadata": {},
   "source": [
    "## Univariate Analysis\n",
    "Univariate Analysis - analysis of a single variable"
   ]
  },
  {
   "attachments": {},
   "cell_type": "markdown",
   "metadata": {},
   "source": [
    "1. What is the churn rate among customers? How many customers have churned (Yes) versus those who haven't (No)?"
   ]
  },
  {
   "cell_type": "code",
   "execution_count": null,
   "metadata": {},
   "outputs": [],
   "source": [
    "# Calculate the number of customers who churned and didn't churn\n",
    "churn_counts= df['Churn'].value_counts()\n",
    "churn_counts"
   ]
  },
  {
   "cell_type": "code",
   "execution_count": null,
   "metadata": {},
   "outputs": [],
   "source": [
    "# Pie Chart to visualize churn rate\n",
    "plt.figure(figsize=(6,6))\n",
    "plt.pie(churn_counts, labels = churn_counts.index, startangle=90, autopct='%1.1f%%', colors=['skyblue', 'yellowgreen'])\n",
    "plt.title('Churn Rate Among Customers')\n",
    "plt.show()"
   ]
  },
  {
   "attachments": {},
   "cell_type": "markdown",
   "metadata": {},
   "source": [
    "The dataset is highly imbalanced. The ratio of the two classes is 73:27. When dealing with imbalanced datasets, it's important to apply appropriate techniques during the model training phase, such as resampling, use of appropriate evaluation metrics, or implementation of anomaly detection techniques. \n",
    "\n",
    "To gain insights from our data, we should perform separate analyses for each of our target classes. This means considering our target values separately and observing how other features behave in each case. \n",
    "\n",
    "Let's delve into exploratory data analysis, investigating relationships between the target variable and other features, as well as relationships amongst the independent variables themselves. This will provide a clearer view on how the features contribute to the target variable, and might shed some light on why such imbalance is present in our target variable."
   ]
  },
  {
   "attachments": {},
   "cell_type": "markdown",
   "metadata": {},
   "source": [
    "2. How does the distribution of churn ('Yes' and 'No') vary across different categories of the predictor variable?"
   ]
  },
  {
   "cell_type": "code",
   "execution_count": null,
   "metadata": {},
   "outputs": [],
   "source": [
    "for i, predictor in enumerate(df.drop(columns=['Churn','PaymentMethod', 'TotalCharges', 'MonthlyCharges'])):\n",
    "    plt.figure(i)\n",
    "    sns.countplot(data=df, x=predictor, hue='Churn', palette=['skyblue', 'yellowgreen'])\n",
    "    plt.title(f'Distribution of Churn by {predictor}')\n",
    "    plt.show()\n",
    "\n",
    "# Separate plot for 'PaymentMethod'\n",
    "plt.figure(figsize=(8,6))\n",
    "sns.countplot(data=df, y='PaymentMethod', hue='Churn', palette=['skyblue', 'yellowgreen'])\n",
    "plt.title('Distribution of Churn by Payment Method')\n",
    "plt.show()"
   ]
  },
  {
   "attachments": {},
   "cell_type": "markdown",
   "metadata": {},
   "source": [
    "3. What are the distributions and summaries of monthly charges, and total charges for the customer base, and are there any notable outliers in these distributions?"
   ]
  },
  {
   "cell_type": "code",
   "execution_count": null,
   "metadata": {},
   "outputs": [],
   "source": [
    "# Create subplot with 1 row and 2 columns\n",
    "fig = make_subplots(rows=1, cols=2)\n",
    "\n",
    "# box plot for 'MonthlyCharges'\n",
    "fig.add_trace(\n",
    "    go.Box(y=df['MonthlyCharges'], name='MonthlyCharges', marker_color='midnightblue', line_color='rgb(8, 48, 107)', line_width=1.5),\n",
    "    row=1, col=1)\n",
    "\n",
    "# box plot for 'TotalCharges'\n",
    "fig.add_trace(\n",
    "    go.Box(y=df['TotalCharges'], name='TotalCharges', marker_color='midnightblue', line_color='rgb(8, 48, 107)', line_width=1.5),\n",
    "    row=1, col=2)\n",
    "\n",
    "# Update layout\n",
    "fig.update_layout(height=400, width=1200, title_text=\"Descriptive Statistics of Monthly Charges and Total Charges\")\n",
    "fig.show()\n",
    "\n",
    "# Save figure to HTML file\n",
    "write_html(fig, 'Descriptive_Statistics_Boxplots.html')"
   ]
  },
  {
   "attachments": {},
   "cell_type": "markdown",
   "metadata": {},
   "source": [
    "## **Bivariate Analysis** (analysis involving two variables)"
   ]
  },
  {
   "attachments": {},
   "cell_type": "markdown",
   "metadata": {},
   "source": [
    "4. What is the average monthly charges and total charges for customers who churned and those who didn't according ?"
   ]
  },
  {
   "cell_type": "code",
   "execution_count": null,
   "metadata": {},
   "outputs": [],
   "source": [
    "# Calculate the average MonthlyCharges and TotalCharges for customers who churned and those who didn't\n",
    "avg_charges = df.groupby(['Churn'])[['MonthlyCharges', 'TotalCharges']].mean()\n",
    "\n",
    "print(avg_charges)"
   ]
  },
  {
   "cell_type": "code",
   "execution_count": null,
   "metadata": {},
   "outputs": [],
   "source": [
    "fig, axes = plt.subplots(nrows=1, ncols=2, figsize=(14, 6))\n",
    "\n",
    "# Plot the average MonthlyCharges\n",
    "avg_charges['MonthlyCharges'].plot(kind='bar', color=['skyblue', 'yellowgreen'], ax=axes[0])\n",
    "axes[0].set_ylabel('Average Monthly Charges')\n",
    "axes[0].set_title('Average Monthly Charges for Churned and Not-Churned Customers')\n",
    "\n",
    "# Plot the average TotalCharges\n",
    "avg_charges['TotalCharges'].plot(kind='bar', color=['skyblue', 'yellowgreen'], ax=axes[1])\n",
    "axes[1].set_ylabel('Average Total Charges')\n",
    "axes[1].set_title('Average Total Charges for Churned and Not-Churned Customers')\n",
    "\n",
    "plt.tight_layout()\n",
    "plt.show()"
   ]
  },
  {
   "attachments": {},
   "cell_type": "markdown",
   "metadata": {},
   "source": [
    "This suggests that customers who churn tend to be those with higher monthly charges but lower total charges, possibly indicating that these customers tend to leave the company relatively earlier in their tenure. This is a valuable insight for the company, as it might need to review its pricing strategy, particularly for new customers or customers in the early stages of their tenure."
   ]
  },
  {
   "attachments": {},
   "cell_type": "markdown",
   "metadata": {},
   "source": [
    "5. What is the churn rate based on the tenure of customers with the company?"
   ]
  },
  {
   "cell_type": "code",
   "execution_count": null,
   "metadata": {},
   "outputs": [],
   "source": [
    "# First, you need to group your data by tenure and Churn columns\n",
    "grouped = df.groupby(['tenure_group', 'Churn']).size().unstack(fill_value=0)\n",
    "# Calculate churn rate for each tenure group\n",
    "grouped['Churn Rate'] =( grouped['Yes'] / (grouped['Yes'] + grouped['No']))*100\n",
    "\n",
    "print(grouped['Churn Rate'])"
   ]
  },
  {
   "cell_type": "code",
   "execution_count": null,
   "metadata": {},
   "outputs": [],
   "source": [
    "# Plot the churn rate against tenure\n",
    "plt.figure(figsize=(12, 8))\n",
    "sns.lineplot(data=grouped, x='tenure_group', y='Churn Rate', color= 'yellowgreen')\n",
    "plt.title('Churn Rate by Tenure')\n",
    "plt.xlabel('Tenure (months)')\n",
    "plt.ylabel('Churn Rate %')\n",
    "plt.show()"
   ]
  },
  {
   "attachments": {},
   "cell_type": "markdown",
   "metadata": {},
   "source": [
    "The churn rate is calculated as the percentage of customers that have churned in each group. From the data, we can observe that the churn rate decreases as the tenure increases. For example, the churn rate for customers who stayed between 1 to 12 months is about 48%, while it's about 7% for customers who stayed between 61 to 72 months. This suggests that newer customers are more likely to churn compared to long-time customers."
   ]
  },
  {
   "attachments": {},
   "cell_type": "markdown",
   "metadata": {},
   "source": [
    "6. What is the distribution of monthly charges for customers who churned versus those who did not churn?"
   ]
  },
  {
   "cell_type": "code",
   "execution_count": null,
   "metadata": {},
   "outputs": [],
   "source": [
    "monthly_charges = sns.kdeplot(df.MonthlyCharges[(df[\"Churn\"] == \"No\") ],\n",
    "                color=\"navy\", fill = True)\n",
    "monthly_charges = sns.kdeplot(df.MonthlyCharges[(df[\"Churn\"] == \"Yes\") ],\n",
    "                ax =monthly_charges, color=\"darkgreen\", fill = True)\n",
    "monthly_charges.legend([\"Not Churned\",\"Churn\"],loc='upper right')\n",
    "monthly_charges.set_ylabel('Density')\n",
    "monthly_charges.set_xlabel('Monthly Charges')\n",
    "monthly_charges.set_title('Monthly charges by churn');"
   ]
  },
  {
   "attachments": {},
   "cell_type": "markdown",
   "metadata": {},
   "source": [
    "Churn is high when Monthly Charges are high"
   ]
  },
  {
   "attachments": {},
   "cell_type": "markdown",
   "metadata": {},
   "source": [
    "7. How does the distribution of total charges incurred by customers relate to churn rates?"
   ]
  },
  {
   "cell_type": "code",
   "execution_count": null,
   "metadata": {},
   "outputs": [],
   "source": [
    "total_charges = sns.kdeplot(df.TotalCharges[(df[\"Churn\"] == \"No\") ],\n",
    "                color=\"navy\", fill = True)\n",
    "total_charges = sns.kdeplot(df.TotalCharges[(df[\"Churn\"] == \"Yes\") ],\n",
    "                ax =total_charges, color=\"darkgreen\", fill= True)\n",
    "total_charges.legend([\"No Churn\",\"Churn\"],loc='upper right')\n",
    "total_charges.set_ylabel('Density')\n",
    "total_charges.set_xlabel('Total Charges')\n",
    "total_charges.set_title('Total charges by churn');"
   ]
  },
  {
   "attachments": {},
   "cell_type": "markdown",
   "metadata": {},
   "source": [
    "Higher Churn at lower Total Charges. "
   ]
  },
  {
   "attachments": {},
   "cell_type": "markdown",
   "metadata": {},
   "source": [
    "## **Multivariate Analysis** (analysis involving more than two variables):"
   ]
  },
  {
   "attachments": {},
   "cell_type": "markdown",
   "metadata": {},
   "source": [
    "8. Is there a correlation between MonthlyCharges, TotalCharges, and customer churn?"
   ]
  },
  {
   "attachments": {},
   "cell_type": "markdown",
   "metadata": {},
   "source": [
    "Convert target value to binary value, yes=1, no=0"
   ]
  },
  {
   "cell_type": "code",
   "execution_count": null,
   "metadata": {},
   "outputs": [],
   "source": [
    "df['Churn'] = np.where(df.Churn == 'Yes',1,0)"
   ]
  },
  {
   "cell_type": "code",
   "execution_count": null,
   "metadata": {},
   "outputs": [],
   "source": [
    "# Select columns\n",
    "columns = ['MonthlyCharges', 'TotalCharges', 'Churn']\n",
    "# Calculate correlation matrix\n",
    "corr_matrix = df[columns].corr()\n",
    "# Create a heatmap\n",
    "sns.heatmap(corr_matrix, annot=True, cmap='coolwarm')\n",
    "plt.title('Correlation Matrix of MonthlyCharges, TotalCharges and Churn')\n",
    "plt.show()\n"
   ]
  },
  {
   "attachments": {},
   "cell_type": "markdown",
   "metadata": {},
   "source": [
    "9. How do the various combinations of factors like tenure, monthly charges, total charges, payment method, contract term, etc. affect churn?"
   ]
  },
  {
   "attachments": {},
   "cell_type": "markdown",
   "metadata": {},
   "source": [
    "Convert all the categorical variables into dummy variables"
   ]
  },
  {
   "cell_type": "code",
   "execution_count": null,
   "metadata": {},
   "outputs": [],
   "source": [
    "df_dm = pd.get_dummies(df)\n",
    "plt.figure(figsize=(20,8))\n",
    "df_dm.corr()['Churn'].sort_values(ascending = False).plot(kind='bar');"
   ]
  },
  {
   "cell_type": "code",
   "execution_count": null,
   "metadata": {},
   "outputs": [],
   "source": []
  }
 ],
 "metadata": {
  "kernelspec": {
   "display_name": "venv",
   "language": "python",
   "name": "python3"
  },
  "language_info": {
   "codemirror_mode": {
    "name": "ipython",
    "version": 3
   },
   "file_extension": ".py",
   "mimetype": "text/x-python",
   "name": "python",
   "nbconvert_exporter": "python",
   "pygments_lexer": "ipython3",
   "version": "3.6.9"
  },
  "orig_nbformat": 4
 },
 "nbformat": 4,
 "nbformat_minor": 2
}
